{
 "cells": [
  {
   "cell_type": "code",
   "execution_count": 86,
   "metadata": {
    "collapsed": true
   },
   "outputs": [],
   "source": [
    "import numpy as np\n",
    "import random as rnd\n",
    "import os\n",
    "import re\n",
    "from IPython.display import HTML, display\n",
    "import matplotlib.pyplot as plt"
   ]
  },
  {
   "cell_type": "code",
   "execution_count": 87,
   "metadata": {},
   "outputs": [],
   "source": [
    "languages = ['java_11_hotspot', 'java_11_openj9', 'java_8_hotspot', 'java_8_openj9', 'graal', 'nodejs', 'nodejs_chakra', 'go', 'go_gccgo', 'posix', 'posix_clang', 'posixmt', 'posixmt_clang']\n",
    "fig_counter = 0\n",
    "languages_count = len(languages)\n",
    "all_syscalls_count = 385 #see https://github.com/torvalds/linux/blob/master/arch/x86/entry/syscalls/syscall_64.tbl\n",
    "root='../../../target/logs'"
   ]
  },
  {
   "cell_type": "code",
   "execution_count": 88,
   "metadata": {},
   "outputs": [],
   "source": [
    "def load_syscalls(filename):\n",
    "    file = open(filename)\n",
    "    while True:\n",
    "        line = file.readline()      \n",
    "        if not line:\n",
    "            break\n",
    "        if not line.startswith(' '):\n",
    "            continue\n",
    "        line = ' '.join(line.split()).split() #replaces multiple blank spaces by single spaces, and split\n",
    "        yield line[-1]\n",
    "\n",
    "def load_syscall_invokations(filename):\n",
    "    file = open(filename)\n",
    "    while True:\n",
    "        line = file.readline()      \n",
    "        if not line:\n",
    "            break\n",
    "        if not line.startswith(' '):\n",
    "            continue\n",
    "        line = ' '.join(line.split()).split() #replaces multiple blank spaces by single spaces, and split\n",
    "        yield int(line[3])\n",
    "        \n",
    "        \n",
    "all_used_syscalls = []\n",
    "for language in languages:\n",
    "    syscalls = np.array(list(load_syscalls(root + '/' + language + '/strace.log')))\n",
    "    all_used_syscalls.extend(syscalls)\n",
    "#     print(str(syscalls) + \":\" + str(len(syscalls)))\n",
    "\n",
    "all_used_syscalls = set(all_used_syscalls)\n",
    "\n",
    "common_syscalls = all_used_syscalls.copy()\n",
    "for language in languages:\n",
    "    syscalls = np.array(list(load_syscalls(root + '/' + language + '/strace.log')))\n",
    "    common_syscalls = common_syscalls & set(syscalls)\n",
    "    \n",
    "all_used_syscalls = list(all_used_syscalls)    \n",
    "\n",
    "incidence = len(all_used_syscalls)/all_syscalls_count\n"
   ]
  },
  {
   "cell_type": "markdown",
   "metadata": {},
   "source": [
    "# SIMULATION 1: \n",
    "\n",
    "We assume syscall fail one by one, permanently.\n",
    "If a language relies on a failed syscall, it is killed.\n",
    "The simulation ends when all used syscalls have been failed, or when all languages have been killed."
   ]
  },
  {
   "cell_type": "code",
   "execution_count": 204,
   "metadata": {},
   "outputs": [
    {
     "name": "stdout",
     "output_type": "stream",
     "text": [
      "78 (0.2025974025974026)\n",
      "11 (0.02857142857142857)\n",
      "['java_11_openj9', 'java_8_openj9', 'nodejs_chakra']\n",
      "['java_11_openj9', 'java_8_openj9', 'nodejs_chakra', 'java_11_hotspot', 'java_8_hotspot', 'nodejs', 'go', 'go_gccgo']\n",
      "['java_11_openj9', 'java_8_openj9', 'nodejs_chakra', 'java_11_hotspot', 'java_8_hotspot', 'nodejs', 'go', 'go_gccgo', 'graal']\n",
      "['java_11_openj9', 'java_8_openj9', 'nodejs_chakra', 'java_11_hotspot', 'java_8_hotspot', 'nodejs', 'go', 'go_gccgo', 'graal', 'posix', 'posix_clang', 'posixmt', 'posixmt_clang']\n",
      "steps: 55\n"
     ]
    }
   ],
   "source": [
    "print(str(len(all_used_syscalls)) + ' (' + str(incidence) + ')')\n",
    "print(str(len(common_syscalls)) + ' (' + str(len(common_syscalls)/all_syscalls_count) + ')')\n",
    "\n",
    "step = 0\n",
    "killed = []\n",
    "max_step = 1000\n",
    "syscall_index = 0\n",
    "\n",
    "rnd_used_syscalls = all_used_syscalls.copy()\n",
    "rnd.shuffle(rnd_used_syscalls)\n",
    "while len(killed) < languages_count and step < max_step and syscall_index < len(all_used_syscalls):\n",
    "    r = np.random.uniform(0,1)\n",
    "    if r <= incidence: #one syscall in all_used_syscalls is failed\n",
    "        syscall = rnd_used_syscalls[syscall_index]\n",
    "        new_killed = False\n",
    "        for language in languages:\n",
    "            if not language in killed:\n",
    "                syscalls = np.array(list(load_syscalls(root + '/' + language + '/strace.log')))\n",
    "                if syscall in syscalls:\n",
    "                    killed.append(language)\n",
    "                    new_killed = True\n",
    "        if new_killed:\n",
    "            print(killed)\n",
    "        syscall_index = syscall_index + 1\n",
    "    step = step + 1\n",
    "    \n",
    "print('steps: ' + str(step))\n",
    "# print('killed: ' + str(killed))"
   ]
  }
 ],
 "metadata": {
  "kernelspec": {
   "display_name": "Python 3",
   "language": "python",
   "name": "python3"
  },
  "language_info": {
   "codemirror_mode": {
    "name": "ipython",
    "version": 3
   },
   "file_extension": ".py",
   "mimetype": "text/x-python",
   "name": "python",
   "nbconvert_exporter": "python",
   "pygments_lexer": "ipython3",
   "version": "3.6.3"
  }
 },
 "nbformat": 4,
 "nbformat_minor": 2
}
