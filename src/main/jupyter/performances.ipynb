{
 "cells": [
  {
   "cell_type": "code",
   "execution_count": 13,
   "metadata": {},
   "outputs": [],
   "source": [
    "import numpy as np\n",
    "import random as rnd\n",
    "import os\n",
    "import re\n",
    "from IPython.display import HTML, display\n",
    "import matplotlib.pyplot as plt"
   ]
  },
  {
   "cell_type": "code",
   "execution_count": 14,
   "metadata": {},
   "outputs": [],
   "source": [
    "languages = ['nodejs', 'java_8_hotspot', 'go', 'posix', 'arduino_due']\n",
    "log_modes = ['monitor', 'monitor-bin', 'monitor-bin_string']\n",
    "modes = ['no', 'off', 'on']\n",
    "fig_counter = 0\n",
    "root='../../../src-gen/logs'"
   ]
  },
  {
   "cell_type": "code",
   "execution_count": 15,
   "metadata": {},
   "outputs": [],
   "source": [
    "def allFiles(language, mode, log_mode):\n",
    "    directory = os.fsencode(root + '/' + log_mode + '/' + mode)\n",
    "    for file in os.listdir(directory):\n",
    "        filename = os.fsdecode(file)\n",
    "        if filename.split('.')[0].startswith(language) and filename.endswith('.log'): \n",
    "            yield root + '/' + log_mode + '/' + mode + '/' + filename\n",
    "            \n",
    "def loadMemory(filename, language):\n",
    "    file = open(filename)\n",
    "    while True:\n",
    "        try:\n",
    "            line = file.readline()      \n",
    "            if not line:\n",
    "                break\n",
    "            if '>usedMem:' in line:\n",
    "                mem = int(line.strip().split(':')[-1])\n",
    "                yield mem   \n",
    "        except:\n",
    "            yield 0\n",
    "            \n",
    "def loadTotalTime(filename):\n",
    "    file = open(filename)\n",
    "    while True:\n",
    "        try:\n",
    "            line = file.readline()      \n",
    "            if not line:\n",
    "                break                  \n",
    "            if '>done in ' in line:\n",
    "                time = int(line.split('>')[1][8:-4])\n",
    "                yield time\n",
    "        except:\n",
    "            yield 0"
   ]
  },
  {
   "cell_type": "code",
   "execution_count": 16,
   "metadata": {},
   "outputs": [
    {
     "data": {
      "image/png": "[encoded data removed]",
      "text/plain": [
       "<Figure size 432x288 with 1 Axes>"
      ]
     },
     "metadata": {
      "needs_background": "light"
     },
     "output_type": "display_data"
    }
   ],
   "source": [
    "def allData(language, mode, log_mode):\n",
    "    all_mem = []\n",
    "    all_t = []\n",
    "    for filename in allFiles(language, mode, log_mode):\n",
    "        mem = np.array(list(loadMemory(filename, language))).astype(int).flatten()\n",
    "        t = np.array(list(loadTotalTime(filename)))\n",
    "        all_mem.append(mem)\n",
    "        all_t.append(t)\n",
    "    return np.average(np.array(all_mem)), np.average(np.array(all_t))\n",
    "\n",
    "def allStaticData(language):\n",
    "    all_bin = []\n",
    "    file = open(root + '/log.cloc')\n",
    "    while True:\n",
    "        line = file.readline()      \n",
    "        if not line:\n",
    "            break                  \n",
    "        if language in line:            \n",
    "            bin = 0\n",
    "            if ':bin:' in line:\n",
    "                try:\n",
    "                    bin = int(line.split(':bin:')[1])\n",
    "                except:\n",
    "                    bin = 0\n",
    "                all_bin.append(bin)            \n",
    "    return all_bin\n",
    "\n",
    "all_bin = []\n",
    "y_bin = []\n",
    "m = ['no', 'string', 'bin', 'hybrid']\n",
    "for language in languages:\n",
    "    bin = allStaticData(language)    \n",
    "    all_bin.append(np.round(np.array(bin)/bin[0]*100,0))\n",
    "    y_bin.append(language.split('_')[0] + '\\n' + str(np.round(bin[0]/1000,1)) + ' kB')\n",
    "\n",
    "data = np.array(all_bin)\n",
    "x = np.arange(data.shape[0])\n",
    "dx = (np.arange(data.shape[1])-data.shape[1]/2.)/(data.shape[1]+2.)\n",
    "d = 1./(data.shape[1]+2.)\n",
    "fig, ax=plt.subplots()\n",
    "for i in range(data.shape[1]):\n",
    "    if i == 0:\n",
    "        continue\n",
    "    ax.bar(x+dx[i],data[:,i], width=d, label=\"\"+m[i])\n",
    "plt.xticks(np.arange(len(y_bin)), (y_bin[0], y_bin[1], y_bin[2], y_bin[3], y_bin[4])) \n",
    "plt.legend(framealpha=100)\n",
    "plt.title('Relative binary sizes')\n",
    "plt.show()"
   ]
  },
  {
   "cell_type": "code",
   "execution_count": 17,
   "metadata": {
    "scrolled": false
   },
   "outputs": [
    {
     "name": "stderr",
     "output_type": "stream",
     "text": [
      "C:\\Users\\brice\\Miniconda3\\lib\\site-packages\\numpy\\lib\\function_base.py:393: RuntimeWarning: Mean of empty slice.\n",
      "  avg = a.mean(axis)\n",
      "C:\\Users\\brice\\Miniconda3\\lib\\site-packages\\numpy\\core\\_methods.py:161: RuntimeWarning: invalid value encountered in double_scalars\n",
      "  ret = ret.dtype.type(ret / rcount)\n"
     ]
    },
    {
     "data": {
      "image/png": "[encoded data removed]",
      "text/plain": [
       "<Figure size 432x288 with 1 Axes>"
      ]
     },
     "metadata": {
      "needs_background": "light"
     },
     "output_type": "display_data"
    },
    {
     "data": {
      "image/png": "[encoded data removed]",
      "text/plain": [
       "<Figure size 432x288 with 1 Axes>"
      ]
     },
     "metadata": {
      "needs_background": "light"
     },
     "output_type": "display_data"
    }
   ],
   "source": [
    "all_t = []\n",
    "all_mem = []\n",
    "for language in languages:     \n",
    "    all_t_language = []\n",
    "    all_mem_language = []\n",
    "    for log_mode in log_modes:       \n",
    "        hasError = False\n",
    "        for mode in modes:\n",
    "            if mode == 'no' and not log_mode == \"monitor\":\n",
    "                continue\n",
    "            try:\n",
    "                mem, t = allData(language, mode, log_mode)                \n",
    "                all_t_language.append(t)\n",
    "                all_mem_language.append(mem)                \n",
    "            except TypeError:\n",
    "                hasError = True\n",
    "                break        \n",
    "        if hasError:\n",
    "            continue\n",
    "    all_t.append(all_t_language)\n",
    "    all_mem.append(all_mem_language)\n",
    "            \n",
    "data = np.array(all_mem)\n",
    "data_t = all_t\n",
    "\n",
    "\n",
    "m = ['no', 'string-off', 'string-on', 'bin-off', 'bin-on', 'hybrid-off', 'hybrid-on' ]\n",
    "x = np.arange(data.shape[0])\n",
    "dx = (np.arange(data.shape[1])-data.shape[1]/2.)/(data.shape[1]+2.)\n",
    "d = 1./(data.shape[1]+2.)\n",
    "fig, ax=plt.subplots()\n",
    "for i in range(data.shape[1]):\n",
    "    if i == 0:\n",
    "        continue    \n",
    "    ax.bar(x+dx[i],data[:,i]/data[:,0]*100, width=d, label=\"\"+m[i])\n",
    "plt.xticks(np.arange(data.shape[0]), (languages[0].split('_')[0]+'\\n'+str(np.round(data[0,0]/1000,1)), languages[1].split('_')[0]+'\\n'+str(np.round(data[1,0]/1000,1)), languages[2].split('_')[0]+'\\n'+str(np.round(data[2,0]/1000,1)), languages[3].split('_')[0]+'\\n'+str(np.round(data[3,0]/1000,1)), languages[4].split('_')[0]+'\\n'+str(np.round(data[4,0]/1000,1)))) \n",
    "plt.legend(framealpha=100)\n",
    "plt.title('Relative RAM usage')\n",
    "plt.show()\n",
    "\n",
    "\n",
    "data = np.array(all_t)\n",
    "x = np.arange(data.shape[0])\n",
    "dx = (np.arange(data.shape[1])-data.shape[1]/2.)/(data.shape[1]+2.)\n",
    "d = 1./(data.shape[1]+2.)\n",
    "fig, ax=plt.subplots()\n",
    "for i in range(data.shape[1]):\n",
    "    if i == 0:\n",
    "        continue      \n",
    "    ax.bar(x+dx[i],data[:,i]/data[:,0]*100, width=d, label=\"\"+m[i])\n",
    "plt.xticks(np.arange(data.shape[0]), (languages[0].split('_')[0]+'\\n'+str(np.round(data[0,0]/1000,1)), languages[1].split('_')[0]+'\\n'+str(np.round(data[1,0]/1000,1)), languages[2].split('_')[0]+'\\n'+str(np.round(data[2,0]/1000,1)), languages[3].split('_')[0]+'\\n'+str(np.round(data[3,0]/1000,1)), languages[4].split('_')[0]+'\\n'+str(np.round(data[4,0]/1000,1)))) \n",
    "plt.legend(framealpha=100)\n",
    "plt.title('Relative time used')\n",
    "plt.show()    "
   ]
  }
 ],
 "metadata": {
  "kernelspec": {
   "display_name": "Python 3",
   "language": "python",
   "name": "python3"
  },
  "language_info": {
   "codemirror_mode": {
    "name": "ipython",
    "version": 3
   },
   "file_extension": ".py",
   "mimetype": "text/x-python",
   "name": "python",
   "nbconvert_exporter": "python",
   "pygments_lexer": "ipython3",
   "version": "3.7.4"
  }
 },
 "nbformat": 4,
 "nbformat_minor": 2
}
