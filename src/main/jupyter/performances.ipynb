{
 "cells": [
  {
   "cell_type": "code",
   "execution_count": null,
   "metadata": {
    "collapsed": true
   },
   "outputs": [],
   "source": [
    "import numpy as np\n",
    "import random as rnd\n",
    "import os\n",
    "import re\n",
    "from IPython.display import HTML, display\n",
    "import matplotlib.pyplot as plt"
   ]
  },
  {
   "cell_type": "code",
   "execution_count": null,
   "metadata": {
    "collapsed": true
   },
   "outputs": [],
   "source": [
    "languages = ['java', 'nodejs', 'go']\n",
    "modes = ['no', 'off', 'on']\n",
    "fig_counter = 0\n",
    "root='../../../src-gen/logs'"
   ]
  },
  {
   "cell_type": "code",
   "execution_count": null,
   "metadata": {},
   "outputs": [],
   "source": [
    "def allFiles(language, mode):\n",
    "    directory = os.fsencode(root + '/' + mode)\n",
    "    for file in os.listdir(directory):\n",
    "        filename = os.fsdecode(file)\n",
    "        if filename.split('-')[1] == language and filename.endswith('.log'): \n",
    "            yield root + '/' + mode + '/' + filename\n",
    "            \n",
    "def loadMemory(filename, language):\n",
    "    file = open(filename)\n",
    "    while True:\n",
    "        line = file.readline()      \n",
    "        if not line:\n",
    "            break\n",
    "        if language == 'go':\n",
    "            line = line[20:]\n",
    "        if line.startswith('#usedMem:'):\n",
    "            mem = int(line[1:].strip().split(':')[1:][0])\n",
    "            yield mem   \n",
    "            \n",
    "def loadTotalTime(filename):\n",
    "    file = open(filename)\n",
    "    while True:\n",
    "        line = file.readline()      \n",
    "        if not line:\n",
    "            break                  \n",
    "        if line.startswith('>done in '):\n",
    "            time = line[9:-4].strip()\n",
    "            return int(time)              "
   ]
  },
  {
   "cell_type": "code",
   "execution_count": null,
   "metadata": {
    "collapsed": true
   },
   "outputs": [],
   "source": [
    "def allData(language, mode):\n",
    "    all_mem = []\n",
    "    all_t = []\n",
    "    for filename in allFiles(language, mode):\n",
    "        mem = np.array(list(loadMemory(filename, language))).astype(int).flatten()\n",
    "        t = loadTotalTime(filename)\n",
    "        all_mem.append(mem)\n",
    "        all_t.append(t)\n",
    "    return all_mem, all_t"
   ]
  },
  {
   "cell_type": "code",
   "execution_count": null,
   "metadata": {
    "scrolled": false
   },
   "outputs": [],
   "source": [
    "for language in languages:    \n",
    "    global fig_counter\n",
    "    \n",
    "    all_t = []\n",
    "    all_mem = []\n",
    "    for mode in modes:\n",
    "        mem, t = allData(language, mode)\n",
    "        all_t.append(np.array(t).flatten()/1000)\n",
    "        all_mem.append(np.array(mem).flatten()/1000)\n",
    "            \n",
    "    fig = plt.figure(fig_counter, figsize=(8,4))        \n",
    "    plt.boxplot(all_t, 0, '')\n",
    "    plt.xticks(range(1, 4), ('no', 'off', 'on'))\n",
    "    plt.title('Total execution time (s) in ' + language)\n",
    "    plt.show()  \n",
    "    fig_counter = fig_counter + 1\n",
    "    \n",
    "    fig = plt.figure(fig_counter, figsize=(8,4))        \n",
    "    plt.boxplot(all_mem, 0, '')\n",
    "    plt.xticks(range(1, 4), ('no', 'off', 'on'))\n",
    "    plt.title('Memory (kb) in ' + language)\n",
    "    plt.show()  \n",
    "    fig_counter = fig_counter + 1\n",
    "    "
   ]
  }
 ],
 "metadata": {
  "kernelspec": {
   "display_name": "Python 3",
   "language": "python",
   "name": "python3"
  },
  "language_info": {
   "codemirror_mode": {
    "name": "ipython",
    "version": 3
   },
   "file_extension": ".py",
   "mimetype": "text/x-python",
   "name": "python",
   "nbconvert_exporter": "python",
   "pygments_lexer": "ipython3",
   "version": "3.6.3"
  }
 },
 "nbformat": 4,
 "nbformat_minor": 2
}
