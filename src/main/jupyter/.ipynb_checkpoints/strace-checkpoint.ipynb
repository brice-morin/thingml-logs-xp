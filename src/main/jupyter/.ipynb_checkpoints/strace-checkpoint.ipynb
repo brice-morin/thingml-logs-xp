{
 "cells": [
  {
   "cell_type": "code",
   "execution_count": 1,
   "metadata": {
    "collapsed": true
   },
   "outputs": [],
   "source": [
    "import numpy as np\n",
    "import random as rnd\n",
    "import os\n",
    "import re\n",
    "from IPython.display import HTML, display\n",
    "import matplotlib.pyplot as plt"
   ]
  },
  {
   "cell_type": "code",
   "execution_count": 2,
   "metadata": {
    "collapsed": true
   },
   "outputs": [],
   "source": [
    "all_languages = ['java_11_hotspot', 'java_11_openj9', 'java_8_hotspot', 'java_8_openj9', 'graal', 'nodejs', 'nodejs_chakra', 'go', 'go_gccgo', 'posix', 'posix_clang', 'posixmt', 'posixmt_clang']\n",
    "java_languages = ['java_11_hotspot', 'java_11_openj9', 'java_8_hotspot', 'java_8_openj9', 'graal']\n",
    "c_languages = ['posix', 'posix_clang', 'posixmt', 'posixmt_clang']\n",
    "js_languages = ['nodejs', 'nodejs_chakra']\n",
    "go_languages = ['go', 'go_gccgo']\n",
    "\n",
    "fig_counter = 0\n",
    "languages_count = len(all_languages)\n",
    "all_syscalls_count = 385 #see https://github.com/torvalds/linux/blob/master/arch/x86/entry/syscalls/syscall_64.tbl\n",
    "root='../../../target/logs'"
   ]
  },
  {
   "cell_type": "code",
   "execution_count": 3,
   "metadata": {},
   "outputs": [
    {
     "name": "stdout",
     "output_type": "stream",
     "text": [
      "All:\t0.2025974025974026\t0.02857142857142857\t7.090909090909092\n",
      "Java:\t0.16103896103896104\t0.04935064935064935\t3.263157894736842\n",
      "C:\t0.05454545454545454\t0.05454545454545454\t1.0\n",
      "JS:\t0.13506493506493505\t0.09090909090909091\t1.4857142857142855\n",
      "Go:\t0.09610389610389611\t0.05454545454545454\t1.761904761904762\n"
     ]
    }
   ],
   "source": [
    "def load_syscalls(filename):\n",
    "    file = open(filename)\n",
    "    while True:\n",
    "        line = file.readline()      \n",
    "        if not line:\n",
    "            break\n",
    "        if not line.startswith(' '):\n",
    "            continue\n",
    "        line = ' '.join(line.split()).split() #replaces multiple blank spaces by single spaces, and split\n",
    "        yield line[-1]\n",
    "\n",
    "def load_syscall_invokations(filename):\n",
    "    file = open(filename)\n",
    "    while True:\n",
    "        line = file.readline()      \n",
    "        if not line:\n",
    "            break\n",
    "        if not line.startswith(' '):\n",
    "            continue\n",
    "        line = ' '.join(line.split()).split() #replaces multiple blank spaces by single spaces, and split\n",
    "        yield line[-1], int(line[3])\n",
    "        \n",
    "def all_common_syscalls(languages):        \n",
    "    all_used_syscalls = []\n",
    "    for language in languages:\n",
    "        syscalls = np.array(list(load_syscalls(root + '/' + language + '/strace.log')))\n",
    "        all_used_syscalls.extend(syscalls)\n",
    "    all_used_syscalls = set(all_used_syscalls)\n",
    "    common_syscalls = all_used_syscalls.copy()\n",
    "    for language in languages:\n",
    "        syscalls = np.array(list(load_syscalls(root + '/' + language + '/strace.log')))\n",
    "        common_syscalls = common_syscalls & set(syscalls)\n",
    "    all_used_syscalls = list(all_used_syscalls)\n",
    "    incidence = len(all_used_syscalls)/all_syscalls_count\n",
    "    incidence_common = len(common_syscalls)/all_syscalls_count\n",
    "    return all_used_syscalls, common_syscalls, incidence, incidence_common\n",
    "\n",
    "def all_invocations(languages):\n",
    "    all_invocations = []\n",
    "    for language in languages:\n",
    "        invocations = np.array(list(load_syscall_invokations(root + '/' + language + '/strace.log')))\n",
    "        all_invocations.extend(invocations)\n",
    "    return all_invocations\n",
    "\n",
    "all_used_syscalls, common_syscalls, incidence, incidence_common = all_common_syscalls(all_languages)\n",
    "all_used_syscalls_java, common_syscalls_java, incidence_java, incidence_common_java = all_common_syscalls(java_languages)\n",
    "all_used_syscalls_c, common_syscalls_c, incidence_c, incidence_common_c = all_common_syscalls(c_languages)\n",
    "all_used_syscalls_js, common_syscalls_js, incidence_js, incidence_common_js = all_common_syscalls(js_languages)\n",
    "all_used_syscalls_go, common_syscalls_go, incidence_go, incidence_common_go = all_common_syscalls(go_languages)\n",
    "\n",
    "print('All:\\t' + str(incidence) + '\\t' + str(incidence_common) + '\\t' + str(incidence/incidence_common))\n",
    "print('Java:\\t' + str(incidence_java) + '\\t' + str(incidence_common_java) + '\\t' + str(incidence_java/incidence_common_java))\n",
    "print('C:\\t' + str(incidence_c) + '\\t' + str(incidence_common_c) + '\\t' + str(incidence_c/incidence_common_c))\n",
    "print('JS:\\t' + str(incidence_js) + '\\t' + str(incidence_common_js) + '\\t' + str(incidence_js/incidence_common_js))\n",
    "print('Go:\\t' + str(incidence_go) + '\\t' + str(incidence_common_go) + '\\t' + str(incidence_go/incidence_common_go))\n",
    "\n",
    "all_invocations(all_languages)"
   ]
  },
  {
   "cell_type": "code",
   "execution_count": 4,
   "metadata": {},
   "outputs": [
    {
     "data": {
      "text/plain": [
       "[(['java_11_openj9', 'graal'], 3.0526315789473686),\n",
       " (['java_11_openj9', 'graal', 'go'], 4.785714285714286),\n",
       " (['java_11_openj9', 'graal', 'go', 'nodejs'], 5.916666666666667),\n",
       " (['java_11_openj9', 'graal', 'go', 'nodejs', 'go_gccgo'], 6.545454545454546),\n",
       " (['java_11_openj9', 'graal', 'go', 'nodejs', 'go_gccgo', 'nodejs_chakra'],\n",
       "  6.909090909090909),\n",
       " (['java_11_hotspot',\n",
       "   'graal',\n",
       "   'nodejs',\n",
       "   'go',\n",
       "   'java_11_openj9',\n",
       "   'go_gccgo',\n",
       "   'nodejs_chakra'],\n",
       "  7.090909090909091)]"
      ]
     },
     "execution_count": 4,
     "metadata": {},
     "output_type": "execute_result"
    }
   ],
   "source": [
    "def select(seed_language, N=5):\n",
    "    language = seed_language\n",
    "    syscalls = np.array(list(load_syscalls(root + '/' + language + '/strace.log')))\n",
    "    \n",
    "    selected_languages = []\n",
    "    selected_languages.append(language)\n",
    "    \n",
    "    all_syscalls = []\n",
    "    all_syscalls.extend(syscalls)\n",
    "    \n",
    "    common_syscalls = []\n",
    "    common_syscalls.extend(syscalls)\n",
    "    \n",
    "    while len(selected_languages) < N:\n",
    "        score = 0\n",
    "        selected_language = ''\n",
    "        for language in all_languages:\n",
    "            if language in selected_languages:\n",
    "                continue            \n",
    "            syscalls = np.array(list(load_syscalls(root + '/' + language + '/strace.log')))\n",
    "            common = set(common_syscalls) & set(syscalls)\n",
    "            union = set(all_syscalls) | set(syscalls)\n",
    "            if len(union)/len(common) > score:\n",
    "                selected_language = language\n",
    "                score = len(union)/len(common)\n",
    "        selected_languages.append(selected_language)\n",
    "        syscalls = np.array(list(load_syscalls(root + '/' + selected_language + '/strace.log')))\n",
    "        common_syscalls = list(set(common_syscalls) & set(syscalls))\n",
    "        all_syscalls = list(set(all_syscalls) | set(syscalls))\n",
    "    return selected_languages, all_syscalls, common_syscalls\n",
    "\n",
    "def all_select():\n",
    "    N = 2\n",
    "    previous_score = -1\n",
    "    converged = False\n",
    "    while N <= len(all_languages) and not converged:\n",
    "        score = 0\n",
    "        selected_languages = []\n",
    "        all_syscalls = []\n",
    "        common_syscalls = []\n",
    "        for language in all_languages:\n",
    "            selected_languages_temp, all_syscalls_temp, common_syscalls_temp = select(language, N)\n",
    "            if len(all_syscalls_temp)/len(common_syscalls_temp) > score:\n",
    "                score = len(all_syscalls_temp)/len(common_syscalls_temp)\n",
    "                selected_languages = selected_languages_temp\n",
    "                all_syscalls = all_syscalls_temp\n",
    "                common_syscalls = common_syscalls_temp\n",
    "        if score > previous_score:\n",
    "            previous_score = score\n",
    "            yield selected_languages, score\n",
    "        else:\n",
    "            return\n",
    "        N = N + 1\n",
    "        \n",
    "list(all_select())"
   ]
  },
  {
   "cell_type": "markdown",
   "metadata": {},
   "source": [
    "# SIMULATION 1: \n",
    "\n",
    "We assume syscall fail one by one, permanently.\n",
    "If a language relies on a failed syscall, it is killed.\n",
    "The simulation ends when all used syscalls have been failed, or when all languages have been killed."
   ]
  },
  {
   "cell_type": "code",
   "execution_count": 5,
   "metadata": {},
   "outputs": [
    {
     "name": "stdout",
     "output_type": "stream",
     "text": [
      "78 (0.2025974025974026)\n",
      "11 (0.02857142857142857)\n"
     ]
    },
    {
     "ename": "NameError",
     "evalue": "name 'languages' is not defined",
     "output_type": "error",
     "traceback": [
      "\u001b[1;31m---------------------------------------------------------------------------\u001b[0m",
      "\u001b[1;31mNameError\u001b[0m                                 Traceback (most recent call last)",
      "\u001b[1;32m<ipython-input-5-12b155cc33aa>\u001b[0m in \u001b[0;36m<module>\u001b[1;34m()\u001b[0m\n\u001b[0;32m     14\u001b[0m         \u001b[0msyscall\u001b[0m \u001b[1;33m=\u001b[0m \u001b[0mrnd_used_syscalls\u001b[0m\u001b[1;33m[\u001b[0m\u001b[0msyscall_index\u001b[0m\u001b[1;33m]\u001b[0m\u001b[1;33m\u001b[0m\u001b[0m\n\u001b[0;32m     15\u001b[0m         \u001b[0mnew_killed\u001b[0m \u001b[1;33m=\u001b[0m \u001b[1;32mFalse\u001b[0m\u001b[1;33m\u001b[0m\u001b[0m\n\u001b[1;32m---> 16\u001b[1;33m         \u001b[1;32mfor\u001b[0m \u001b[0mlanguage\u001b[0m \u001b[1;32min\u001b[0m \u001b[0mlanguages\u001b[0m\u001b[1;33m:\u001b[0m\u001b[1;33m\u001b[0m\u001b[0m\n\u001b[0m\u001b[0;32m     17\u001b[0m             \u001b[1;32mif\u001b[0m \u001b[1;32mnot\u001b[0m \u001b[0mlanguage\u001b[0m \u001b[1;32min\u001b[0m \u001b[0mkilled\u001b[0m\u001b[1;33m:\u001b[0m\u001b[1;33m\u001b[0m\u001b[0m\n\u001b[0;32m     18\u001b[0m                 \u001b[0msyscalls\u001b[0m \u001b[1;33m=\u001b[0m \u001b[0mnp\u001b[0m\u001b[1;33m.\u001b[0m\u001b[0marray\u001b[0m\u001b[1;33m(\u001b[0m\u001b[0mlist\u001b[0m\u001b[1;33m(\u001b[0m\u001b[0mload_syscalls\u001b[0m\u001b[1;33m(\u001b[0m\u001b[0mroot\u001b[0m \u001b[1;33m+\u001b[0m \u001b[1;34m'/'\u001b[0m \u001b[1;33m+\u001b[0m \u001b[0mlanguage\u001b[0m \u001b[1;33m+\u001b[0m \u001b[1;34m'/strace.log'\u001b[0m\u001b[1;33m)\u001b[0m\u001b[1;33m)\u001b[0m\u001b[1;33m)\u001b[0m\u001b[1;33m\u001b[0m\u001b[0m\n",
      "\u001b[1;31mNameError\u001b[0m: name 'languages' is not defined"
     ]
    }
   ],
   "source": [
    "print(str(len(all_used_syscalls)) + ' (' + str(incidence) + ')')\n",
    "print(str(len(common_syscalls)) + ' (' + str(len(common_syscalls)/all_syscalls_count) + ')')\n",
    "\n",
    "step = 0\n",
    "killed = []\n",
    "max_step = 1000\n",
    "syscall_index = 0\n",
    "\n",
    "rnd_used_syscalls = all_used_syscalls.copy()\n",
    "rnd.shuffle(rnd_used_syscalls)\n",
    "while len(killed) < languages_count and step < max_step and syscall_index < len(all_used_syscalls):\n",
    "    r = np.random.uniform(0,1)\n",
    "    if r <= incidence: #one syscall in all_used_syscalls is failed\n",
    "        syscall = rnd_used_syscalls[syscall_index]\n",
    "        new_killed = False\n",
    "        for language in languages:\n",
    "            if not language in killed:\n",
    "                syscalls = np.array(list(load_syscalls(root + '/' + language + '/strace.log')))\n",
    "                if syscall in syscalls:\n",
    "                    killed.append(language)\n",
    "                    new_killed = True\n",
    "        if new_killed:\n",
    "            print(killed)\n",
    "        syscall_index = syscall_index + 1\n",
    "    step = step + 1\n",
    "    \n",
    "print('steps: ' + str(step))\n",
    "# print('killed: ' + str(killed))"
   ]
  }
 ],
 "metadata": {
  "kernelspec": {
   "display_name": "Python 3",
   "language": "python",
   "name": "python3"
  },
  "language_info": {
   "codemirror_mode": {
    "name": "ipython",
    "version": 3
   },
   "file_extension": ".py",
   "mimetype": "text/x-python",
   "name": "python",
   "nbconvert_exporter": "python",
   "pygments_lexer": "ipython3",
   "version": "3.6.3"
  }
 },
 "nbformat": 4,
 "nbformat_minor": 2
}
